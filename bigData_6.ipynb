{
  "nbformat": 4,
  "nbformat_minor": 0,
  "metadata": {
    "colab": {
      "provenance": []
    },
    "kernelspec": {
      "name": "python3",
      "display_name": "Python 3"
    },
    "language_info": {
      "name": "python"
    }
  },
  "cells": [
    {
      "cell_type": "markdown",
      "source": [
        "1.patientinfos.csv 파일의 환자 정보 중 \n",
        "1)중복된 데이타의 개수를 print하고     \n",
        "2)중복된 데이타를 제거하는 code를 작성하시오. \n"
      ],
      "metadata": {
        "id": "-ATqUc9VNtsu"
      }
    },
    {
      "cell_type": "code",
      "execution_count": null,
      "metadata": {
        "id": "bi5tIvSgNsmG",
        "colab": {
          "base_uri": "https://localhost:8080/"
        },
        "outputId": "1d8a7236-a095-48f3-9eb1-a30ab9111896"
      },
      "outputs": [
        {
          "output_type": "stream",
          "name": "stdout",
          "text": [
            "5 \n",
            "\n",
            "    patient_id  global_num     sex  birth_year  age country province  \\\n",
            "0   1000000001           2    male        1964  50s   Korea    Seoul   \n",
            "1   1000000002           5    male        1987  30s   Korea    Seoul   \n",
            "2   1000000003           6    male        1964  50s   Korea    Seoul   \n",
            "3   1000000004           7    male        1991  20s   Korea    Seoul   \n",
            "4   1000000005           9  female        1992  20s   Korea    Seoul   \n",
            "..         ...         ...     ...         ...  ...     ...      ...   \n",
            "80  1000000076        3054    male        1977  40s   Korea    Seoul   \n",
            "81  1000000077        3046  female        1991  20s   Korea    Seoul   \n",
            "82  1000000078        3261    male        1974  40s   Korea    Seoul   \n",
            "83  1000000079        3262  female        2003  10s   Korea    Seoul   \n",
            "84  1000000080        3263  female        1996  20s   Korea    Seoul   \n",
            "\n",
            "             city  \n",
            "0      Gangseo-gu  \n",
            "1     Jungnang-gu  \n",
            "2       Jongno-gu  \n",
            "3         Mapo-gu  \n",
            "4     Seongbuk-gu  \n",
            "..            ...  \n",
            "80  Dongdaemun-gu  \n",
            "81   Seongdong-gu  \n",
            "82       Nowon-gu  \n",
            "83       Nowon-gu  \n",
            "84       Nowon-gu  \n",
            "\n",
            "[80 rows x 8 columns]\n"
          ]
        }
      ],
      "source": [
        "%reset -f \n",
        "import pandas as pd\n",
        "\n",
        "df = pd.read_csv(\"/content/PatientInfos.csv\")\n",
        "\n",
        "#1)\n",
        "print(df.duplicated().sum(),'\\n')\n",
        "\n",
        "#2)\n",
        "print(df.drop_duplicates())"
      ]
    },
    {
      "cell_type": "markdown",
      "source": [
        "2.1)'mpg.csv'에 fl 열을 기준ㅇ로  'fuel.csv'파일정보를 병합하고  \n",
        "2) fl 열 기준으로 group으로 나누어 'displ'값의 평균을 print하는 code를 작성하시오,  "
      ],
      "metadata": {
        "id": "CZhOOEQIN2bM"
      }
    },
    {
      "cell_type": "code",
      "source": [
        "%reset -f \n",
        "import numpy as np\n",
        "import pandas as pd\n",
        "\n",
        "df1 = pd.read_csv(\"/content/mpg.csv\")\n",
        "df2 = pd.read_csv(\"/content/fuel.csv\")\n",
        "\n",
        "df_m = pd.merge(df1, df2, how='left', on='fl')\n",
        "df_g = df_m.groupby('fl')\n",
        "result = df_g['displ'].mean()\n",
        "print(result)\n"
      ],
      "metadata": {
        "id": "SetaE5jkN7Kk",
        "colab": {
          "base_uri": "https://localhost:8080/"
        },
        "outputId": "3b96549c-8269-49a2-cbbf-7a01f35582e7"
      },
      "execution_count": null,
      "outputs": [
        {
          "output_type": "stream",
          "name": "stdout",
          "text": [
            "fl\n",
            "c    1.800000\n",
            "d    3.040000\n",
            "e    4.675000\n",
            "p    3.263462\n",
            "r    3.501786\n",
            "Name: displ, dtype: float64\n"
          ]
        }
      ]
    },
    {
      "cell_type": "markdown",
      "source": [
        "3.'exam.csv' 파일을 읽고\n",
        "1) nclass와 year 을 기준으로 group을 나누고 group 별 'math','english','science' 평균을 출력하고  \n",
        "2) 'math_pass' 라는 열을 추가 하고 math 점수가 80이상이면 'pass' 아니면 'fail' 이라고 저장하고   \n",
        "3) 'eng_pass' 라는 열을 추가 하고 english 점수가 90이상이면 'pass' 아니면 'fail' 이라고 저장하고     \n",
        "3) 'math_pass','eng_pass'를 기준으로 group을 나눈 후 group별 science 평균을 print하는   \n",
        "code를 작성하시오\n"
      ],
      "metadata": {
        "id": "v6Mbq5v8OCXs"
      }
    },
    {
      "cell_type": "code",
      "source": [
        "%reset -f \n",
        "import numpy as np\n",
        "import pandas as pd\n",
        "\n",
        "df = pd.read_csv(\"/content/exam.csv\")\n",
        "\n",
        "#1)\n",
        "grouped1 = df.groupby(['nclass', 'year'])\n",
        "result1 = grouped1['math','english','science'].mean()\n",
        "print(result1,'\\n')\n",
        "\n",
        "def math80(a):\n",
        "  if a>=80:\n",
        "    return \"pass\"\n",
        "  else :\n",
        "    return \"fail\"\n",
        "def eng90(a):\n",
        "  if a>=90:\n",
        "    return \"pass\"\n",
        "  else :\n",
        "    return \"fail\"\n",
        "\n",
        "df['math_pass'] = df.apply(lambda x: math80(x['math']) axis=1)\n",
        "#2)\n",
        "df['math_pass'] = np.where(df['math'] >= 80, 'pass', 'fail')\n",
        "\n",
        "#3)\n",
        "df['eng_pass'] = np.where(df['english'] >= 90, 'pass', 'fail')\n",
        "\n",
        "#4)\n",
        "grouped2 = df.groupby(['math_pass', 'eng_pass'])\n",
        "result2 = grouped2['science'].mean()\n",
        "print(result2,'\\n')"
      ],
      "metadata": {
        "id": "G6WEq6ClOKa1",
        "colab": {
          "base_uri": "https://localhost:8080/"
        },
        "outputId": "081f9a37-c025-4b87-98af-4f268d04c2b9"
      },
      "execution_count": null,
      "outputs": [
        {
          "output_type": "stream",
          "name": "stdout",
          "text": [
            "             math  english  science\n",
            "nclass year                        \n",
            "1      1     50.0     98.0     90.0\n",
            "       2     60.0     97.0     60.0\n",
            "       3     37.5     92.0     68.0\n",
            "2      1     37.5     84.5     81.5\n",
            "       2     80.0     90.0     90.0\n",
            "       3     90.0     78.0     80.0\n",
            "3      1     20.0     98.0     15.0\n",
            "       2     57.5     81.5     67.5\n",
            "       3     45.0     85.0     32.0\n",
            "4      1     46.0     98.0     65.0\n",
            "       2     48.0     87.0     12.0\n",
            "       3     66.5     77.0     79.0\n",
            "5      1     72.5     73.0     94.0\n",
            "       2     89.0     68.0     87.0\n",
            "       3     78.0     83.0     58.0 \n",
            "\n",
            "math_pass  eng_pass\n",
            "fail       fail        67.666667\n",
            "           pass        59.000000\n",
            "pass       fail        85.666667\n",
            "           pass        90.000000\n",
            "Name: science, dtype: float64 \n",
            "\n"
          ]
        },
        {
          "output_type": "stream",
          "name": "stderr",
          "text": [
            "/usr/local/lib/python3.7/dist-packages/ipykernel_launcher.py:9: FutureWarning: Indexing with multiple keys (implicitly converted to a tuple of keys) will be deprecated, use a list instead.\n",
            "  if __name__ == '__main__':\n"
          ]
        }
      ]
    },
    {
      "cell_type": "markdown",
      "source": [
        "4.exams.csv 파일을 열고  \n",
        "1) 데이터 프레임의 요약 정보를 print하고    \n",
        "2) math 열의 데이터 type이 int가 될 수 있도록\n",
        "  int가 아닌 데이터가 들어 있는 행을 삭제하고  \n",
        "3) math열의 데이터 형을 int로 변경하고   \n",
        "3) 요약 정보를 다시 print하는 code를 작성 하시오.    \n",
        "\n"
      ],
      "metadata": {
        "id": "tMvdRGj2gGjp"
      }
    },
    {
      "cell_type": "code",
      "source": [
        "%reset -f \n",
        "import pandas as pd\n",
        "import numpy as np\n",
        "\n",
        "df = pd.read_csv(\"/content/exam_s.csv\")\n",
        "\n",
        "#1)\n",
        "print(df.info(),'\\n')\n",
        "\n",
        "#2)\n",
        "df['math'].replace('#', np.nan, inplace = True)\n",
        "df.dropna(subset = ['math'], axis = 0, inplace = True)\n",
        "\n",
        "#3)\n",
        "df['math'] = df['math'].astype('int')\n",
        "\n",
        "#4)\n",
        "print(df.info(),'\\n')"
      ],
      "metadata": {
        "id": "ANHzOFZlghfU",
        "colab": {
          "base_uri": "https://localhost:8080/"
        },
        "outputId": "bbadbe82-9d85-497a-b1e3-796f948c6c33"
      },
      "execution_count": null,
      "outputs": [
        {
          "output_type": "stream",
          "name": "stdout",
          "text": [
            "<class 'pandas.core.frame.DataFrame'>\n",
            "RangeIndex: 20 entries, 0 to 19\n",
            "Data columns (total 6 columns):\n",
            " #   Column   Non-Null Count  Dtype \n",
            "---  ------   --------------  ----- \n",
            " 0   id       20 non-null     int64 \n",
            " 1   nclass   20 non-null     int64 \n",
            " 2   year     20 non-null     int64 \n",
            " 3   math     20 non-null     object\n",
            " 4   english  20 non-null     int64 \n",
            " 5   science  20 non-null     int64 \n",
            "dtypes: int64(5), object(1)\n",
            "memory usage: 1.1+ KB\n",
            "None \n",
            "\n",
            "<class 'pandas.core.frame.DataFrame'>\n",
            "Int64Index: 17 entries, 0 to 19\n",
            "Data columns (total 6 columns):\n",
            " #   Column   Non-Null Count  Dtype\n",
            "---  ------   --------------  -----\n",
            " 0   id       17 non-null     int64\n",
            " 1   nclass   17 non-null     int64\n",
            " 2   year     17 non-null     int64\n",
            " 3   math     17 non-null     int64\n",
            " 4   english  17 non-null     int64\n",
            " 5   science  17 non-null     int64\n",
            "dtypes: int64(6)\n",
            "memory usage: 952.0 bytes\n",
            "None \n",
            "\n"
          ]
        }
      ]
    }
  ]
}