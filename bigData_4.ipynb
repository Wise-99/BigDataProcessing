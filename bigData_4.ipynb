{
  "nbformat": 4,
  "nbformat_minor": 0,
  "metadata": {
    "colab": {
      "provenance": []
    },
    "kernelspec": {
      "name": "python3",
      "display_name": "Python 3"
    },
    "language_info": {
      "name": "python"
    }
  },
  "cells": [
    {
      "cell_type": "markdown",
      "source": [
        "1.아래와 같은 구조를 갖는  데이터 프레임에서    (원본 객체 변경: iplace=True)  \n",
        "1) 이름을 index로 설정하고  \n",
        "2) '취미' 열을 삭제 하고    \n",
        "3) '나라' 행을 삭제 하고    \n",
        "4) '지민' 행을 이름 인덱스를 이용하여  추가 하여  '16, 중등, 효성'    데이터를 저장하고  \n",
        "5) column 이름 '학교'를 '교명'으로 바꾸고  \n",
        "6) 우석과 인아의 교명을 선경1, 한국1로 변경하고  \n",
        "7) 나이 기준 어린  순으로 행을 정렬 한 후  \n",
        "8) '국적'열을 추가 한 후 모두 '한국' 으로 저장 한 후  \n",
        "9) print하는 code를 작성 하시오  \n",
        "\n",
        "\n",
        "|이름|나이|구분|취미|학교 |\n",
        "|-|-|-|-|-|\n",
        "|우석|17|고등|독서|선경|\n",
        "|인아|14|중등|산책|한국|\n",
        "|나라|12|초등|축구|우성|\n",
        "|민정|19|고등|독서|효성|\n",
        "|서준|15|중등|농구|상성|\n"
      ],
      "metadata": {
        "id": "8o7-zj89WL_z"
      }
    },
    {
      "cell_type": "code",
      "source": [
        "%reset -f\n",
        "#과제 1\n",
        "import pandas as pd\n",
        "student_data = {'이름':['우석', '인아', '나라', '민정', '서준'],\n",
        "                '나이': [17,14,12,19,15], \n",
        "                '구분':['고등','중등','초등','고등','중등'], \n",
        "                '취미':['독서','산책','축구', '독서','농구'], \n",
        "                '학교':['선경','한국','우성','효성','상성'] }   \n",
        "\n",
        "df=pd.DataFrame(student_data)\n",
        "\n",
        "df.set_index('이름', inplace=True)\n",
        "df.drop(['취미'], axis = 1, inplace=True)\n",
        "df.drop(['나라'], inplace=True)\n",
        "df.loc['지민'] = [16, '중등', '효성']\n",
        "df.rename(columns={'학교' : '교명'}, inplace=True)\n",
        "df.loc[['우석', '인아'], ['교명']] = ['선경1', '한국1']\n",
        "df.sort_values(by='나이', ascending=True, inplace=True)\n",
        "df['국적'] = '한국'\n",
        "print(df)"
      ],
      "metadata": {
        "id": "rEV-JSUQHMHw",
        "colab": {
          "base_uri": "https://localhost:8080/"
        },
        "outputId": "90731a6c-48d9-4582-febf-ee6426b5e8a8"
      },
      "execution_count": null,
      "outputs": [
        {
          "output_type": "stream",
          "name": "stdout",
          "text": [
            "    나이  구분   교명  국적\n",
            "이름                 \n",
            "인아  14  중등  한국1  한국\n",
            "서준  15  중등   상성  한국\n",
            "지민  16  중등   효성  한국\n",
            "우석  17  고등  선경1  한국\n",
            "민정  19  고등   효성  한국\n"
          ]
        }
      ]
    },
    {
      "cell_type": "markdown",
      "source": [
        "2.아래와 같은 구조를 갖는  데이터 프레임에서    (원본 객체 변경: iplace=True)  \n",
        "1) '인문' 열을 추가 하여 영어와 국어 성적의 합계를 저장하고  \n",
        "2) '과학' 열을 추가 하여 물리와 화학 성적의 합계를 저장하고  \n",
        "3)  과학 성적으로 내림 차순으로 정렬하고  \n",
        "4) print하는 code를 작성하시오.   \n",
        "\n",
        "\n",
        "|이름|국어|영어|물리|화학|\n",
        "|-|-|-|-|-|\n",
        "|우석|90|85|70|50|\n",
        "|인아|80|90|80|70|\n",
        "|나라|75|85|80|90|\n",
        "|민정|90|95|90|100|\n"
      ],
      "metadata": {
        "id": "aeIHBDaXBjdY"
      }
    },
    {
      "cell_type": "code",
      "source": [
        "%reset -f\n",
        "#과제 2\n",
        "import pandas as pd\n",
        "student_data = {'이름':['우석', '인아', '나라', '민정'],\n",
        "                '국어':[90,80,75,90], \n",
        "                '영어':[85,90,85,95], \n",
        "                '물리':[70,80,80,90], \n",
        "                '화학':[50,70,90,100] }    \n",
        "df=pd.DataFrame(student_data)\n",
        "\n",
        "df['인문'] = df['국어'] + df['영어']\n",
        "df['과학'] = df['물리'] + df['화학']\n",
        "df.sort_values(by='과학', ascending=False, inplace = True)\n",
        "print(df)\n",
        "\n"
      ],
      "metadata": {
        "id": "QvpuPIQHix-N",
        "colab": {
          "base_uri": "https://localhost:8080/"
        },
        "outputId": "d99b33ae-5e77-4045-8e94-32cb3809bc0e"
      },
      "execution_count": null,
      "outputs": [
        {
          "output_type": "stream",
          "name": "stdout",
          "text": [
            "   이름  국어  영어  물리   화학   인문   과학\n",
            "3  민정  90  95  90  100  185  190\n",
            "2  나라  75  85  80   90  160  170\n",
            "1  인아  80  90  80   70  170  150\n",
            "0  우석  90  85  70   50  175  120\n"
          ]
        }
      ]
    },
    {
      "cell_type": "markdown",
      "source": [
        "3.1) iris3.csv 파일을 읽고 (첫번째 행을 column 이름으로)  \n",
        "2) column 이름을 'feat1','feat2','feat3','feat4','name'으로 변경하고  \n",
        "3) 처음 3개 행을 print하고  \n",
        "4) 요약 정보를 print하고  \n",
        "5) 통계 정보를 print하고  \n",
        "6) 각 열 데이터의 고유값 개수를 print하고  \n",
        "7) 'feat2' 열의 최대값 print  \n",
        "8) 'feat4' 열의 표준 편차 print   \n",
        "9) 'feat1'과 'feat3'의 상관계수를 출력하는 코드를 작성 하시오.   "
      ],
      "metadata": {
        "id": "zzqNIdeZEGNk"
      }
    },
    {
      "cell_type": "code",
      "source": [
        "%reset -f\n",
        "#과제 3\n",
        "import pandas as pd\n",
        "\n",
        "df = pd.read_csv('/content/iris3.csv')\n",
        "df.rename(columns={'sepal_length':'feat1', 'sepal_width':'feat2', 'petal_length':'feat3', 'petal_width':'feat4', 'species':'name'}, inplace=True)\n",
        "\n",
        "print(df.iloc[0:2])\n",
        "print()\n",
        "print(df.shape)\n",
        "print()\n",
        "print(df.describe())\n",
        "print()\n",
        "print(df['feat1'].value_counts())\n",
        "print()\n",
        "print(df['feat2'].value_counts())\n",
        "print()\n",
        "print(df['feat3'].value_counts())\n",
        "print()\n",
        "print(df['feat4'].value_counts())\n",
        "print()\n",
        "print(df['name'].value_counts())\n",
        "print()\n",
        "print(df['feat2'].max())\n",
        "print()\n",
        "print(df['feat4'].std())\n",
        "print()\n",
        "print(df[['feat1','feat3']].corr())"
      ],
      "metadata": {
        "id": "NPH_5r7DBi4L",
        "colab": {
          "base_uri": "https://localhost:8080/"
        },
        "outputId": "8429b29e-2327-4f77-ce15-7e832e547094"
      },
      "execution_count": null,
      "outputs": [
        {
          "output_type": "stream",
          "name": "stdout",
          "text": [
            "   feat1  feat2  feat3  feat4         name\n",
            "0    5.1    3.5    1.4    0.2  Iris-setosa\n",
            "1    4.9    3.0    1.4    0.2  Iris-setosa\n",
            "\n",
            "(150, 5)\n",
            "\n",
            "            feat1       feat2       feat3       feat4\n",
            "count  150.000000  150.000000  150.000000  150.000000\n",
            "mean     5.843333    3.054000    3.758667    1.198667\n",
            "std      0.828066    0.433594    1.764420    0.763161\n",
            "min      4.300000    2.000000    1.000000    0.100000\n",
            "25%      5.100000    2.800000    1.600000    0.300000\n",
            "50%      5.800000    3.000000    4.350000    1.300000\n",
            "75%      6.400000    3.300000    5.100000    1.800000\n",
            "max      7.900000    4.400000    6.900000    2.500000\n",
            "\n",
            "5.0    10\n",
            "5.1     9\n",
            "6.3     9\n",
            "5.7     8\n",
            "6.7     8\n",
            "5.8     7\n",
            "5.5     7\n",
            "6.4     7\n",
            "4.9     6\n",
            "5.4     6\n",
            "6.1     6\n",
            "6.0     6\n",
            "5.6     6\n",
            "4.8     5\n",
            "6.5     5\n",
            "6.2     4\n",
            "7.7     4\n",
            "6.9     4\n",
            "4.6     4\n",
            "5.2     4\n",
            "5.9     3\n",
            "4.4     3\n",
            "7.2     3\n",
            "6.8     3\n",
            "6.6     2\n",
            "4.7     2\n",
            "7.6     1\n",
            "7.4     1\n",
            "7.3     1\n",
            "7.0     1\n",
            "7.1     1\n",
            "5.3     1\n",
            "4.3     1\n",
            "4.5     1\n",
            "7.9     1\n",
            "Name: feat1, dtype: int64\n",
            "\n",
            "3.0    26\n",
            "2.8    14\n",
            "3.2    13\n",
            "3.1    12\n",
            "3.4    12\n",
            "2.9    10\n",
            "2.7     9\n",
            "2.5     8\n",
            "3.5     6\n",
            "3.3     6\n",
            "3.8     6\n",
            "2.6     5\n",
            "2.3     4\n",
            "3.7     3\n",
            "2.4     3\n",
            "2.2     3\n",
            "3.6     3\n",
            "3.9     2\n",
            "4.4     1\n",
            "4.0     1\n",
            "4.1     1\n",
            "4.2     1\n",
            "2.0     1\n",
            "Name: feat2, dtype: int64\n",
            "\n",
            "1.5    14\n",
            "1.4    12\n",
            "5.1     8\n",
            "4.5     8\n",
            "1.6     7\n",
            "1.3     7\n",
            "5.6     6\n",
            "4.7     5\n",
            "4.9     5\n",
            "4.0     5\n",
            "4.2     4\n",
            "5.0     4\n",
            "4.4     4\n",
            "4.8     4\n",
            "1.7     4\n",
            "3.9     3\n",
            "4.6     3\n",
            "5.7     3\n",
            "4.1     3\n",
            "5.5     3\n",
            "6.1     3\n",
            "5.8     3\n",
            "3.3     2\n",
            "5.4     2\n",
            "6.7     2\n",
            "5.3     2\n",
            "5.9     2\n",
            "6.0     2\n",
            "1.2     2\n",
            "4.3     2\n",
            "1.9     2\n",
            "3.5     2\n",
            "5.2     2\n",
            "3.0     1\n",
            "1.1     1\n",
            "3.7     1\n",
            "3.8     1\n",
            "6.6     1\n",
            "6.3     1\n",
            "1.0     1\n",
            "6.9     1\n",
            "3.6     1\n",
            "6.4     1\n",
            "Name: feat3, dtype: int64\n",
            "\n",
            "0.2    28\n",
            "1.3    13\n",
            "1.8    12\n",
            "1.5    12\n",
            "1.4     8\n",
            "2.3     8\n",
            "1.0     7\n",
            "0.4     7\n",
            "0.3     7\n",
            "0.1     6\n",
            "2.1     6\n",
            "2.0     6\n",
            "1.2     5\n",
            "1.9     5\n",
            "1.6     4\n",
            "2.5     3\n",
            "2.2     3\n",
            "2.4     3\n",
            "1.1     3\n",
            "1.7     2\n",
            "0.6     1\n",
            "0.5     1\n",
            "Name: feat4, dtype: int64\n",
            "\n",
            "Iris-setosa        50\n",
            "Iris-versicolor    50\n",
            "Iris-virginica     50\n",
            "Name: name, dtype: int64\n",
            "\n",
            "4.4\n",
            "\n",
            "0.7631607417008411\n",
            "\n",
            "          feat1     feat3\n",
            "feat1  1.000000  0.871754\n",
            "feat3  0.871754  1.000000\n"
          ]
        }
      ]
    },
    {
      "cell_type": "markdown",
      "source": [
        "4.code에서 정의한 데이터에서   \n",
        "1) 하나라도 NaN이 있는 행은 삭제하고 print하는 code  (df1에 저장 후 print)    \n",
        "2) 모든 값이  NaN인  행을 삭제하고 print하는 code  (df2에 저장 후 print)   \n",
        "3) NaN이 포함된 행을 삭제할때 데이터가 4개 이상 있어야 남기도록 하고  (df3)   print하는 code를 작성 하시오 "
      ],
      "metadata": {
        "id": "JenW-aaDix94"
      }
    },
    {
      "cell_type": "code",
      "source": [
        "%reset -f\n",
        "#과제 4\n",
        "import pandas as pd\n",
        "\n",
        "import numpy as np\n",
        "\n",
        "raw_data = {'name': ['Jason', np.nan, 'Tina', 'Jake', 'Amy'], \n",
        "            'age': [42, np.nan, 36, np.nan, 73], \n",
        "            'math': [4, np.nan, np.nan, 2, 3],\n",
        "            'physics': [25, np.nan, np.nan, 62, 70],\n",
        "             'korean': [25, np.nan, np.nan, 62, 70]}\n",
        "\n",
        "df = pd.DataFrame(raw_data)\n",
        "print(df,'\\n')\n",
        "\n",
        "df1=df[:]\n",
        "df1.dropna(how='any', inplace=True)\n",
        "print(df1, '\\n')\n",
        "\n",
        "df2 = df[:]\n",
        "df2.dropna(how='all', inplace=True)\n",
        "print(df2, '\\n')\n",
        "\n",
        "df3 = df[:]\n",
        "df3.dropna(thresh=4, inplace=True)\n",
        "print(df3, '\\n')"
      ],
      "metadata": {
        "id": "1ySywsZfgztB",
        "colab": {
          "base_uri": "https://localhost:8080/"
        },
        "outputId": "3d020007-ca6d-4055-8155-6b8f0cce788b"
      },
      "execution_count": null,
      "outputs": [
        {
          "output_type": "stream",
          "name": "stdout",
          "text": [
            "    name   age  math  physics  korean\n",
            "0  Jason  42.0   4.0     25.0    25.0\n",
            "1    NaN   NaN   NaN      NaN     NaN\n",
            "2   Tina  36.0   NaN      NaN     NaN\n",
            "3   Jake   NaN   2.0     62.0    62.0\n",
            "4    Amy  73.0   3.0     70.0    70.0 \n",
            "\n",
            "    name   age  math  physics  korean\n",
            "0  Jason  42.0   4.0     25.0    25.0\n",
            "4    Amy  73.0   3.0     70.0    70.0 \n",
            "\n",
            "    name   age  math  physics  korean\n",
            "0  Jason  42.0   4.0     25.0    25.0\n",
            "2   Tina  36.0   NaN      NaN     NaN\n",
            "3   Jake   NaN   2.0     62.0    62.0\n",
            "4    Amy  73.0   3.0     70.0    70.0 \n",
            "\n",
            "    name   age  math  physics  korean\n",
            "0  Jason  42.0   4.0     25.0    25.0\n",
            "3   Jake   NaN   2.0     62.0    62.0\n",
            "4    Amy  73.0   3.0     70.0    70.0 \n",
            "\n"
          ]
        },
        {
          "output_type": "stream",
          "name": "stderr",
          "text": [
            "/usr/local/lib/python3.7/dist-packages/pandas/util/_decorators.py:311: SettingWithCopyWarning: \n",
            "A value is trying to be set on a copy of a slice from a DataFrame\n",
            "\n",
            "See the caveats in the documentation: https://pandas.pydata.org/pandas-docs/stable/user_guide/indexing.html#returning-a-view-versus-a-copy\n",
            "  return func(*args, **kwargs)\n",
            "/usr/local/lib/python3.7/dist-packages/pandas/util/_decorators.py:311: SettingWithCopyWarning: \n",
            "A value is trying to be set on a copy of a slice from a DataFrame\n",
            "\n",
            "See the caveats in the documentation: https://pandas.pydata.org/pandas-docs/stable/user_guide/indexing.html#returning-a-view-versus-a-copy\n",
            "  return func(*args, **kwargs)\n",
            "/usr/local/lib/python3.7/dist-packages/pandas/util/_decorators.py:311: SettingWithCopyWarning: \n",
            "A value is trying to be set on a copy of a slice from a DataFrame\n",
            "\n",
            "See the caveats in the documentation: https://pandas.pydata.org/pandas-docs/stable/user_guide/indexing.html#returning-a-view-versus-a-copy\n",
            "  return func(*args, **kwargs)\n"
          ]
        }
      ]
    },
    {
      "cell_type": "markdown",
      "source": [
        "5.1) 'exam1.csv'파일을 읽고 (첫번째 행이 열이름이 되도록)   \n",
        "2) english의 결측치는 0으로 치환하고     \n",
        "3) math의 결측치는 math의 평균 값으로 치환하고   \n",
        "4) nclass의 결측치는 앞에 값으로 치환하고  \n",
        "5) print하는 code를 작성하시오  \n",
        "(inplace=True 사용)  \n",
        "\n",
        "\n",
        "\n"
      ],
      "metadata": {
        "id": "DAD6yskllzZd"
      }
    },
    {
      "cell_type": "code",
      "source": [
        "%reset -f\n",
        "#과제 5\n",
        "import pandas as pd\n",
        "df = pd.read_csv('/content/exam1.csv')\n",
        "df['english'].fillna(0, inplace=True)\n",
        "df['math'].fillna(df['math'].mean(), inplace=True)\n",
        "df['nclass'].fillna(method='ffill', inplace=True)\n",
        "\n",
        "print(df)\n"
      ],
      "metadata": {
        "id": "-7H36PCPlxus",
        "colab": {
          "base_uri": "https://localhost:8080/"
        },
        "outputId": "bb2ed78d-bdbe-4a70-c0d6-e3face8f60ae"
      },
      "execution_count": null,
      "outputs": [
        {
          "output_type": "stream",
          "name": "stdout",
          "text": [
            "    id  nclass       math  english  science\n",
            "0    1     1.0  50.000000     98.0     50.0\n",
            "1    2     1.0  60.000000     97.0     60.0\n",
            "2    3     1.0  45.000000     86.0     78.0\n",
            "3    4     1.0  30.000000     98.0     58.0\n",
            "4    5     2.0  25.000000     80.0     65.0\n",
            "5    6     2.0  57.842105     89.0     98.0\n",
            "6    7     2.0  80.000000     90.0     45.0\n",
            "7    8     2.0  90.000000     78.0     25.0\n",
            "8    9     3.0  20.000000     98.0     15.0\n",
            "9   10     3.0  50.000000     98.0     45.0\n",
            "10  11     3.0  65.000000     65.0     65.0\n",
            "11  12     3.0  45.000000      0.0     32.0\n",
            "12  13     4.0  46.000000     98.0     65.0\n",
            "13  14     4.0  48.000000     87.0     12.0\n",
            "14  15     4.0  75.000000     56.0     78.0\n",
            "15  16     4.0  58.000000     98.0      NaN\n",
            "16  17     5.0  65.000000     68.0     98.0\n",
            "17  18     5.0  80.000000     78.0     90.0\n",
            "18  19     5.0  89.000000     68.0     87.0\n",
            "19  20     5.0  78.000000     83.0     58.0\n"
          ]
        }
      ]
    },
    {
      "cell_type": "markdown",
      "source": [
        "6.아래 code에서 정의하는 데이터 프레임에서    \n",
        "1) 중복 행을 제거 하고 print하는 code(df1)  \n",
        "2) c1,c3을 기준으로 중복행을 제거 하고 print하는 code(df2)  \n",
        "를 작성 하시오. \n"
      ],
      "metadata": {
        "id": "qZ4lTbXXmya5"
      }
    },
    {
      "cell_type": "code",
      "source": [
        "%reset -f\n",
        "#과제 6\n",
        "import pandas as pd\n",
        "\n",
        "df=pd.DataFrame({'c1':['a','a','b','a','b'],\n",
        "                 'c2':[2,1,2,1,2],\n",
        "                 'c3':[1,1,2,2,2]})\n",
        "print(df)\n",
        "print()\n",
        "\n",
        "df1 = df.drop_duplicates()\n",
        "print(df1, '\\n')\n",
        "df2 = df.drop_duplicates(subset=['c1', 'c3'])\n",
        "print(df2, '\\n')"
      ],
      "metadata": {
        "id": "rW8kHhAIpY9p",
        "colab": {
          "base_uri": "https://localhost:8080/"
        },
        "outputId": "572492ba-9c93-43ae-eba7-d5f2f9c16674"
      },
      "execution_count": null,
      "outputs": [
        {
          "output_type": "stream",
          "name": "stdout",
          "text": [
            "  c1  c2  c3\n",
            "0  a   2   1\n",
            "1  a   1   1\n",
            "2  b   2   2\n",
            "3  a   1   2\n",
            "4  b   2   2\n",
            "\n",
            "  c1  c2  c3\n",
            "0  a   2   1\n",
            "1  a   1   1\n",
            "2  b   2   2\n",
            "3  a   1   2 \n",
            "\n",
            "  c1  c2  c3\n",
            "0  a   2   1\n",
            "2  b   2   2\n",
            "3  a   1   2 \n",
            "\n"
          ]
        }
      ]
    },
    {
      "cell_type": "markdown",
      "source": [
        "7.1) wine1.cse 파일을 읽고 (첫행부터 데이터로 읽음)  \n",
        "2) column 이름을 'country', 'year','feat1','fest2','fest3','feat4'로 지정하고  \n",
        "3) country의 누락 데이터는 france로 저장하고  \n",
        "4) feat1, feat2, feat3, feat4의 누락 데이터는 각 열의 평균으로 저장하고  \n",
        "5) 'country','year' 기준으로 중복데이터를 제거 하고  \n",
        "6) 'feat1-2' 열을 추가 하여 feat1과 feat2의 핪의 값을 저장하고  \n",
        "7) 'year'를 기준으로 오름 차순으로 출력하는 code를 작성 하시오.\n",
        "\n"
      ],
      "metadata": {
        "id": "TSeBK_DXrS42"
      }
    },
    {
      "cell_type": "code",
      "source": [
        "%reset -f\n",
        "#과제 7\n",
        "import pandas as pd\n",
        "\n",
        "df = pd.read_csv('/content/wine1.csv', header=0)\n",
        "#df.loc[0]=0\n",
        "df.columns=['country', 'year','feat1','feat2','feat3','feat4']\n",
        "df['country'].fillna('france', inplace=True)\n",
        "df['feat1'].fillna(df['feat1'].mean(), inplace=True)\n",
        "df['feat2'].fillna(df['feat2'].mean(), inplace=True)\n",
        "df['feat3'].fillna(df['feat3'].mean(), inplace=True)\n",
        "df['feat4'].fillna(df['feat4'].mean(), inplace=True)\n",
        "\n",
        "df = df.drop_duplicates(subset=['country', 'year'])\n",
        "df['feat1-2'] = df['feat1']+df['feat2']\n",
        "\n",
        "df = df.sort_values(by='year', ascending=True)\n",
        "\n",
        "print(df)\n",
        "\n"
      ],
      "metadata": {
        "id": "rVueVatHppCI",
        "colab": {
          "base_uri": "https://localhost:8080/"
        },
        "outputId": "d6ce196d-3e63-43fa-a9ce-38bf08817058"
      },
      "execution_count": null,
      "outputs": [
        {
          "output_type": "stream",
          "name": "stdout",
          "text": [
            "  country  year      feat1  feat2  feat3     feat4    feat1-2\n",
            "5   italy  1980   7.900000   0.60   0.06  1.600000   8.500000\n",
            "0  france  1990   7.800000   0.88   0.00  2.600000   8.680000\n",
            "3     usa  1990   7.400000   0.70   0.00  2.366667   8.100000\n",
            "4  france  1995   7.400000   0.66   0.00  1.800000   8.060000\n",
            "8     usa  1995   7.500000   0.50   0.36  6.100000   8.000000\n",
            "2   chile  2000  11.200000   0.28   0.56  1.900000  11.480000\n",
            "7     usa  2000   7.800000   0.58   0.02  2.000000   8.380000\n",
            "1   italy  2010   7.966667   0.76   0.04  2.300000   8.726667\n"
          ]
        },
        {
          "output_type": "stream",
          "name": "stderr",
          "text": [
            "/usr/local/lib/python3.7/dist-packages/ipykernel_launcher.py:15: SettingWithCopyWarning: \n",
            "A value is trying to be set on a copy of a slice from a DataFrame.\n",
            "Try using .loc[row_indexer,col_indexer] = value instead\n",
            "\n",
            "See the caveats in the documentation: https://pandas.pydata.org/pandas-docs/stable/user_guide/indexing.html#returning-a-view-versus-a-copy\n",
            "  from ipykernel import kernelapp as app\n"
          ]
        }
      ]
    }
  ]
}