{
  "nbformat": 4,
  "nbformat_minor": 0,
  "metadata": {
    "colab": {
      "provenance": []
    },
    "kernelspec": {
      "name": "python3",
      "display_name": "Python 3"
    },
    "language_info": {
      "name": "python"
    }
  },
  "cells": [
    {
      "cell_type": "markdown",
      "source": [
        "1.아래와 같은 구조를 갖는 시리즈를 만들고 print 하는 code를 아래 셀에  작성한 후 실행하시오. 교안의 예제1-1 참고\n",
        "\n",
        "\n",
        "|||\n",
        "|-|-|\n",
        "|e|5|\n",
        "|d|6|\n",
        "|f|7|\n",
        "|g|8|\n",
        "\n"
      ],
      "metadata": {
        "id": "XGRZkfQG-CSH"
      }
    },
    {
      "cell_type": "code",
      "source": [
        "%reset -f\n",
        "#과제 1\n",
        "import pandas as pd\n",
        "\n",
        "dict_data = {\n",
        "    'e' : 5,\n",
        "    'd' : 6,\n",
        "    'f' : 7,\n",
        "    'g' : 8\n",
        "}\n",
        "\n",
        "sr = pd.Series(dict_data)\n",
        "print(sr)"
      ],
      "metadata": {
        "id": "rEV-JSUQHMHw",
        "colab": {
          "base_uri": "https://localhost:8080/"
        },
        "outputId": "8da319e1-72c2-433a-9d65-e65a91c027d6"
      },
      "execution_count": null,
      "outputs": [
        {
          "output_type": "stream",
          "name": "stdout",
          "text": [
            "e    5\n",
            "d    6\n",
            "f    7\n",
            "g    8\n",
            "dtype: int64\n"
          ]
        }
      ]
    },
    {
      "cell_type": "markdown",
      "source": [
        "2.아래와 같은 구조를 갖는 시리즈를 파이썬 리스트를 이용해 만들고 print 하는 code를 아래 셀에  작성한 후 실행하시오. 교안의 예제1-2 참고\n",
        "\n",
        "\n",
        "|||\n",
        "|-|-|\n",
        "|0|amy|\n",
        "|1|15|\n",
        "|2|cse|\n",
        "|3|3|"
      ],
      "metadata": {
        "id": "aeIHBDaXBjdY"
      }
    },
    {
      "cell_type": "code",
      "source": [
        "%reset -f\n",
        "#과제 2\n",
        "\n",
        "\n",
        "\n"
      ],
      "metadata": {
        "id": "QvpuPIQHix-N",
        "colab": {
          "base_uri": "https://localhost:8080/"
        },
        "outputId": "a2bd3788-51ac-4292-a7af-692be931fdb1"
      },
      "execution_count": null,
      "outputs": [
        {
          "output_type": "stream",
          "name": "stdout",
          "text": [
            "0    amy\n",
            "1     15\n",
            "2    cse\n",
            "3      3\n",
            "dtype: object\n"
          ]
        }
      ]
    },
    {
      "cell_type": "markdown",
      "source": [
        "3.아래와 같은 구조를 갖는 시리즈를   \n",
        "1) 파이썬 튜플과 index option을 이용하여 만들고 print 하는 code를 아래 셀에  작성한 후 실행하시오. 교안의 예제1-3 (1) 참고 \n",
        "\n",
        "|||\n",
        "|-|-|\n",
        "|이름|우석|\n",
        "|생년월일|2003-01-03|\n",
        "|성별|남|\n",
        "|학교|true|"
      ],
      "metadata": {
        "id": "9doVg-W9-6j_"
      }
    },
    {
      "cell_type": "code",
      "source": [
        "%reset -f\n",
        "#과제 3\n",
        "\n",
        "\n",
        "\n"
      ],
      "metadata": {
        "id": "NPH_5r7DBi4L",
        "colab": {
          "base_uri": "https://localhost:8080/"
        },
        "outputId": "85298d6f-1731-48b9-9a0e-574ee84238e6"
      },
      "execution_count": null,
      "outputs": [
        {
          "output_type": "stream",
          "name": "stdout",
          "text": [
            "이름              우석\n",
            "생년월일    2003-01-03\n",
            "성별               남\n",
            "학교            True\n",
            "dtype: object\n"
          ]
        }
      ]
    },
    {
      "cell_type": "markdown",
      "source": [
        "4.아래와 같은 구조를 갖는 데이터 프레임을 딕셔너리를 이용하여  만들고 print 하는 code를 아래 셀에  작성한 후 실행하시오. 교안의 예제 1-4 참고\n",
        "\n",
        "\n",
        "||e1|e2|e3|\n",
        "|-|-|-|-|\n",
        "|0|1|2|3|\n",
        "|1|4|3|4|\n",
        "|2|5|3|2|"
      ],
      "metadata": {
        "id": "JenW-aaDix94"
      }
    },
    {
      "cell_type": "code",
      "source": [
        "%reset -f\n",
        "#과제 4\n",
        "\n",
        "\n",
        "\n"
      ],
      "metadata": {
        "id": "1ySywsZfgztB",
        "colab": {
          "base_uri": "https://localhost:8080/"
        },
        "outputId": "5b4a65d2-20ee-43d5-8fcb-970e0b9cfeee"
      },
      "execution_count": null,
      "outputs": [
        {
          "output_type": "stream",
          "name": "stdout",
          "text": [
            "<class 'pandas.core.frame.DataFrame'>\n",
            "\n",
            "\n",
            "   e1  e2  e3\n",
            "0   1   2   3\n",
            "1   4   3   4\n",
            "2   5   3   2\n"
          ]
        }
      ]
    },
    {
      "cell_type": "markdown",
      "source": [
        "5.아래와 같은 구조를 갖는 데이터 프레임을 리스트와 행 인덱스, 열 인덱스 지정방법으로  만들고 print 하는 code를 아래 셀에  작성한 후 실행하시오. 교안의 예제 1-5 참고\n",
        "\n",
        "\n",
        "||나이|성별|취미|\n",
        "|-|-|-|-|\n",
        "|우석|22|남|피아노|\n",
        "|나라|23|여|산책|\n"
      ],
      "metadata": {
        "id": "DAD6yskllzZd"
      }
    },
    {
      "cell_type": "code",
      "source": [
        "%reset -f\n",
        "#과제 5\n",
        "\n",
        "import pandas as pd\n",
        "\n",
        "df = pd.DataFrame([[22, '남', '피아노'], [23, '여', '산책']], index = ['우석', '나라'], columns = ['나이', '성별', '취미'])\n",
        "print(df)\n"
      ],
      "metadata": {
        "id": "-7H36PCPlxus",
        "colab": {
          "base_uri": "https://localhost:8080/"
        },
        "outputId": "b17f733f-fe43-46f2-cefe-faff53d0f409"
      },
      "execution_count": null,
      "outputs": [
        {
          "output_type": "stream",
          "name": "stdout",
          "text": [
            "    나이 성별   취미\n",
            "우석  22  남  피아노\n",
            "나라  23  여   산책\n"
          ]
        }
      ]
    },
    {
      "cell_type": "markdown",
      "source": [
        "6.행 인덱스/열 이름 설정  ( 교안 예제 1-5,1-6)  \n",
        "1) 아래와 같은 구조를 갖는 데이터 프레임을 리스트와 행 인덱스, 열 인덱스 지정방법으로  만들고 print 하고  \n",
        "\n",
        "||나이|학교|취미|\n",
        "|-|-|-|-|\n",
        "|우석|17|고등|피아노|\n",
        "|나라|14|중등|산책|\n",
        "\n",
        "2) 아래와 같은 구조를 가지도록 속성을 지정하여 변경하고 print\n",
        "\n",
        "||age|school|hobby|\n",
        "|-|-|-|-|\n",
        "|student1|17|고등|피아노|\n",
        "|student2|14|중등|산책|\n",
        "\n",
        "\n",
        "3) 다시 아래와 같은 구조를 가지도록 속성을 지정하여 변경하고 (원본 객체 변경) print \n",
        "\n",
        "||feat1|feat2|fest3|\n",
        "|-|-|-|-|\n",
        "|data1|17|고등|피아노|\n",
        "|data2|14|중등|산책|\n",
        "\n",
        "하는 code를 아래 cell에 작성하고 실행 하시오. "
      ],
      "metadata": {
        "id": "qZ4lTbXXmya5"
      }
    },
    {
      "cell_type": "code",
      "source": [
        "%reset -f\n",
        "#과제 6\n",
        "import pandas as pd\n",
        "\n",
        "df = pd.DataFrame([[17, '고등', '피아노'], [14, '중등', '산책']], index = ['우석' , '나라'], columns = ['나이', '학교', '취미'])\n",
        "print(df, '\\n')\n",
        "\n",
        "df.index = ['student1', 'student2']\n",
        "df.columns = ['age', 'school', 'hobby']\n",
        "print(df, '\\n')\n",
        "\n",
        "df.rename(index = {'student1' : 'data1', 'student2':'data2'}, columns = {'age':'feat1', 'school':'feat2', 'hobby':'feat3'})\n",
        "print(df, '\\n')\n"
      ],
      "metadata": {
        "id": "rW8kHhAIpY9p",
        "colab": {
          "base_uri": "https://localhost:8080/"
        },
        "outputId": "3c5852d3-b794-4d8a-c534-ef3316b1ee99"
      },
      "execution_count": null,
      "outputs": [
        {
          "output_type": "stream",
          "name": "stdout",
          "text": [
            "    나이  학교   취미\n",
            "우석  17  고등  피아노\n",
            "나라  14  중등   산책 \n",
            "\n",
            "          age school hobby\n",
            "student1   17     고등   피아노\n",
            "student2   14     중등    산책 \n",
            "\n",
            "          age school hobby\n",
            "student1   17     고등   피아노\n",
            "student2   14     중등    산책 \n",
            "\n"
          ]
        }
      ]
    },
    {
      "cell_type": "markdown",
      "source": [
        "7.아래와 같은 구조를 갖는  데이터 프레임에서 \n",
        "1) 우석의 행을 삭제하고 print하는 code와  \n",
        "2) 나라와 민정의 행을 삭제하고 print 하는 code  \n",
        "3) 나이의 열를 삭제하고 print하는 code와  \n",
        "4) 구분과 학교의 열을 데이터를 삭제하고 print 하는 code를 아래 cell에 작성 하고 실행 하시오. (교안 1-7,1-8 참조)\n",
        "\n",
        "||나이|구분|취미|학교 |\n",
        "|-|-|-|-|-|\n",
        "|우석|17|고등|독서|선경|\n",
        "|인아|14|중등|산책|한국|\n",
        "|나라|12|초등|축구|우성|\n",
        "|민정|19|고등|독서|효성|\n",
        "|서준|15|중등|농구|상성|\n"
      ],
      "metadata": {
        "id": "TSeBK_DXrS42"
      }
    },
    {
      "cell_type": "code",
      "source": [
        "from pandas.core.resample import TimeGrouper\n",
        "%reset -f\n",
        "#과제 7\n",
        "import pandas as pd\n",
        "\n",
        "df = pd.DataFrame([[17, '고등', '독서', '선경'], \n",
        "                   [14, '중등', '산책', '한국'], \n",
        "                   [12, '초등', '축구','우성'], \n",
        "                   [19, '고등', '독서','효성'], \n",
        "                   [15, '중등', '농구', '상성']],\n",
        "                  index = ['우석', '인아', '나라', '민정', '서준'], \n",
        "                  columns = ['나이', '구분', '취미', '학교'])\n",
        "print(df, '\\n')\n",
        "\n",
        "df.drop('우석', inplace=True)\n",
        "print(df, '\\n')\n",
        "\n",
        "df.drop(['나라', '민정'], inplace=True)\n",
        "print(df, '\\n')\n",
        "\n",
        "df.drop('나이',axis=1, inplace=True)\n",
        "print(df, '\\n')\n",
        "\n",
        "\n",
        "df.drop(['구분', '학교'],axis=1, inplace=True)\n",
        "print(df, '\\n')"
      ],
      "metadata": {
        "id": "rVueVatHppCI",
        "colab": {
          "base_uri": "https://localhost:8080/"
        },
        "outputId": "b463e629-1d63-4cb1-e947-373089f06737"
      },
      "execution_count": null,
      "outputs": [
        {
          "output_type": "stream",
          "name": "stdout",
          "text": [
            "    나이  구분  취미  학교\n",
            "우석  17  고등  독서  선경\n",
            "인아  14  중등  산책  한국\n",
            "나라  12  초등  축구  우성\n",
            "민정  19  고등  독서  효성\n",
            "서준  15  중등  농구  상성 \n",
            "\n",
            "    나이  구분  취미  학교\n",
            "인아  14  중등  산책  한국\n",
            "나라  12  초등  축구  우성\n",
            "민정  19  고등  독서  효성\n",
            "서준  15  중등  농구  상성 \n",
            "\n",
            "    나이  구분  취미  학교\n",
            "인아  14  중등  산책  한국\n",
            "서준  15  중등  농구  상성 \n",
            "\n",
            "    구분  취미  학교\n",
            "인아  중등  산책  한국\n",
            "서준  중등  농구  상성 \n",
            "\n",
            "    취미\n",
            "인아  산책\n",
            "서준  농구 \n",
            "\n"
          ]
        }
      ]
    },
    {
      "cell_type": "markdown",
      "source": [
        "8.아래와 같은 구조를 갖는  데이터 프레임에서  \n",
        "1) 인아의 행을 선택하고 print하는 code를 loc을 이용한 방법 iloc 을 아용한 방법으로   \n",
        "2) 나라와 민정의 행을 선택하고 print하는 code를 loc을 이용한 방법 iloc 을 아용한 방법으로  \n",
        "3) 취미와 학교 열을 선택 하고 print하는 code  \n",
        "를 아래셀에 작성 하고 실행 하시오. (예제  1-9,1-10)\n",
        "\n",
        "\n",
        "||나이|구분|취미|학교 |\n",
        "|-|-|-|-|-|\n",
        "|우석|17|고등|독서|선경|\n",
        "|인아|14|중등|산책|한국|\n",
        "|나라|12|초등|축구|우성|\n",
        "|민정|19|고등|독서|효성|\n",
        "|서준|15|중등|농구|상성|\n"
      ],
      "metadata": {
        "id": "RvHETXaewKjs"
      }
    },
    {
      "cell_type": "code",
      "source": [
        "%reset -f\n",
        "#과제 8\n",
        "import pandas as pd\n",
        "\n",
        "df = pd.DataFrame([[17, '고등', '독서', '선경'], \n",
        "                   [14, '중등', '산책', '한국'], \n",
        "                   [12, '초등', '축구','우성'], \n",
        "                   [19, '고등', '독서','효성'], \n",
        "                   [15, '중등', '농구', '상성']],\n",
        "                  index = ['우석', '인아', '나라', '민정', '서준'], \n",
        "                  columns = ['나이', '구분', '취미', '학교'])\n",
        "\n",
        "print(df.loc['인아'])\n",
        "print(df.iloc[1], '\\n')\n",
        "\n",
        "print(df.loc[['나라', '민정']])\n",
        "print(df.iloc[2:4], '\\n')\n",
        "\n",
        "print(df[['취미', '학교']])"
      ],
      "metadata": {
        "colab": {
          "base_uri": "https://localhost:8080/"
        },
        "id": "lbACuFlgxpDS",
        "outputId": "95935b0c-2ee7-47c2-a673-42ede1fb234c"
      },
      "execution_count": null,
      "outputs": [
        {
          "output_type": "stream",
          "name": "stdout",
          "text": [
            "나이    14\n",
            "구분    중등\n",
            "취미    산책\n",
            "학교    한국\n",
            "Name: 인아, dtype: object\n",
            "나이    14\n",
            "구분    중등\n",
            "취미    산책\n",
            "학교    한국\n",
            "Name: 인아, dtype: object \n",
            "\n",
            "    나이  구분  취미  학교\n",
            "나라  12  초등  축구  우성\n",
            "민정  19  고등  독서  효성\n",
            "    나이  구분  취미  학교\n",
            "나라  12  초등  축구  우성\n",
            "민정  19  고등  독서  효성 \n",
            "\n",
            "    취미  학교\n",
            "우석  독서  선경\n",
            "인아  산책  한국\n",
            "나라  축구  우성\n",
            "민정  독서  효성\n",
            "서준  농구  상성\n"
          ]
        }
      ]
    },
    {
      "cell_type": "markdown",
      "source": [
        "9.아래와 같은 구조를 갖는  데이터 프레임에서  \n",
        "1) 인아의 취미를 선택 하고 print하는  code를 loc과 iloc을 이용하여 작성  \n",
        "2) 나라와 민정의 취미와 학교를 선택하고 print하는 code를 loc과 iloc을 이용하여 아래 cell에 작성하고 실행 하시오.  (예제 1-11)\n",
        "\n",
        "||나이|구분|취미|학교 |\n",
        "|-|-|-|-|-|\n",
        "|우석|17|고등|독서|선경|\n",
        "|인아|14|중등|산책|한국|\n",
        "|나라|12|초등|축구|우성|\n",
        "|민정|19|고등|독서|효성|\n",
        "|서준|15|중등|농구|상성|\n"
      ],
      "metadata": {
        "id": "aXfWI8vByR2M"
      }
    },
    {
      "cell_type": "code",
      "source": [
        "%reset -f\n",
        "#과제 9\n",
        "import pandas as pd\n",
        "\n",
        "df = pd.DataFrame([[17, '고등', '독서', '선경'], \n",
        "                   [14, '중등', '산책', '한국'], \n",
        "                   [12, '초등', '축구','우성'], \n",
        "                   [19, '고등', '독서','효성'], \n",
        "                   [15, '중등', '농구', '상성']],\n",
        "                  index = ['우석', '인아', '나라', '민정', '서준'], \n",
        "                  columns = ['나이', '구분', '취미', '학교'])\n",
        "\n",
        "print(df.loc[['인아'], ['취미']])\n",
        "print(df.iloc[[1], [2]], '\\n')\n",
        "\n",
        "print(df.loc[['나라', '민정'], ['취미','학교']])\n",
        "print(df.iloc[[2,3], [2,3]])"
      ],
      "metadata": {
        "id": "8mLXAgpty72X",
        "colab": {
          "base_uri": "https://localhost:8080/"
        },
        "outputId": "62e25949-d56e-49e2-fd25-26b4d2d93d2e"
      },
      "execution_count": null,
      "outputs": [
        {
          "output_type": "stream",
          "name": "stdout",
          "text": [
            "    취미\n",
            "인아  산책\n",
            "    취미\n",
            "인아  산책 \n",
            "\n",
            "    취미  학교\n",
            "나라  축구  우성\n",
            "민정  독서  효성\n",
            "    취미  학교\n",
            "나라  축구  우성\n",
            "민정  독서  효성\n"
          ]
        }
      ]
    },
    {
      "cell_type": "markdown",
      "source": [
        "10.아래와 같은 구조를 갖는  데이터 프레임에서  \n",
        "1) '영어'  열을 추가 하고 모든 값을 90점으로 입력하고 print  code를 작성 하시오.  \n",
        "2) '영진'  행을 추가 하고 값을 18, 고등, 배구, 선경,90 으로 입력하고 print code를   \n",
        "3)  나라의 취미와 학교를 농구, 선경으로 변경하고 print하는 code를 \n",
        "작성 하고 실행하시오. (예제 1-12, 1-13,1-14)\n",
        "\n",
        "||나이|구분|취미|학교 |\n",
        "|-|-|-|-|-|\n",
        "|우석|17|고등|독서|선경|\n",
        "|인아|14|중등|산책|한국|\n",
        "|나라|12|초등|축구|우성|\n",
        "|민정|19|고등|독서|효성|\n",
        "|서준|15|중등|농구|상성|"
      ],
      "metadata": {
        "id": "hoJ_EOjszH-U"
      }
    },
    {
      "cell_type": "code",
      "source": [
        "%reset -f\n",
        "#과제 10\n",
        "import pandas as pd\n",
        "\n",
        "df = pd.DataFrame([[17, '고등', '독서', '선경'], \n",
        "                   [14, '중등', '산책', '한국'], \n",
        "                   [12, '초등', '축구','우성'], \n",
        "                   [19, '고등', '독서','효성'], \n",
        "                   [15, '중등', '농구', '상성']],\n",
        "                  index = ['우석', '인아', '나라', '민정', '서준'], \n",
        "                  columns = ['나이', '구분', '취미', '학교'])\n",
        "\n",
        "df['영어'] = 90\n",
        "print(df, '\\n')\n",
        "\n",
        "df.loc['영진'] = [18, '고등', '배구', '선경', 90]\n",
        "print(df, '\\n')\n",
        "\n",
        "df.loc[['나라'], ['취미', '학교']] = ['농구', '선경']\n",
        "print(df, '\\n')"
      ],
      "metadata": {
        "id": "uLd_EQQ50GZQ",
        "colab": {
          "base_uri": "https://localhost:8080/"
        },
        "outputId": "3070d841-2313-4638-d8ec-2d986b2fb8e9"
      },
      "execution_count": null,
      "outputs": [
        {
          "output_type": "stream",
          "name": "stdout",
          "text": [
            "    나이  구분  취미  학교  영어\n",
            "우석  17  고등  독서  선경  90\n",
            "인아  14  중등  산책  한국  90\n",
            "나라  12  초등  축구  우성  90\n",
            "민정  19  고등  독서  효성  90\n",
            "서준  15  중등  농구  상성  90 \n",
            "\n",
            "    나이  구분  취미  학교  영어\n",
            "우석  17  고등  독서  선경  90\n",
            "인아  14  중등  산책  한국  90\n",
            "나라  12  초등  축구  우성  90\n",
            "민정  19  고등  독서  효성  90\n",
            "서준  15  중등  농구  상성  90\n",
            "영진  18  고등  배구  선경  90 \n",
            "\n",
            "    나이  구분  취미  학교  영어\n",
            "우석  17  고등  독서  선경  90\n",
            "인아  14  중등  산책  한국  90\n",
            "나라  12  초등  농구  선경  90\n",
            "민정  19  고등  독서  효성  90\n",
            "서준  15  중등  농구  상성  90\n",
            "영진  18  고등  배구  선경  90 \n",
            "\n"
          ]
        }
      ]
    },
    {
      "cell_type": "markdown",
      "source": [
        "11.아래와 같은 구조를 갖는 데이터 프레임에서  \n",
        "1) '이름' 열을 행 index로 지정하고   \n",
        "2) 행 index 기준으로 sorting(오름 차순) 하고 print하는 code를 작성하시오.     \n",
        " (예제 1-17~19)\n",
        "\n",
        "|이름|나이|구분|취미|학교 |\n",
        "|-|-|-|-|-|\n",
        "|우석|17|고등|독서|선경|\n",
        "|인아|14|중등|산책|한국|\n",
        "|나라|12|초등|축구|우성|\n",
        "|민정|19|고등|독서|효성|\n",
        "|서준|15|중등|농구|상성|"
      ],
      "metadata": {
        "id": "05z4YL0V4VdG"
      }
    },
    {
      "cell_type": "code",
      "source": [
        "%reset -f\n",
        "#과제 11\n",
        "import pandas as pd\n",
        "\n",
        "student_data = {'이름':['우석', '인아', '나라', '민정', '서준'],\n",
        "                '나이': [17,14,12,19,15], \n",
        "                '구분':['고등','중등','초등','고등','중등'], \n",
        "                '취미':['독서','산책','축구', '독서','농구'], \n",
        "                '학교':['선경','한국','우성','효성','상성'] }    \n",
        "df=pd.DataFrame(student_data)\n",
        "print(df)\n",
        "df = df.set_index('이름')\n",
        "print(df)\n",
        "\n",
        "print(df.sort_index())\n"
      ],
      "metadata": {
        "id": "FlzSQmdE4-ww",
        "colab": {
          "base_uri": "https://localhost:8080/"
        },
        "outputId": "02c3a781-2ba4-401e-b109-ee12c149dfaf"
      },
      "execution_count": null,
      "outputs": [
        {
          "output_type": "stream",
          "name": "stdout",
          "text": [
            "   이름  나이  구분  취미  학교\n",
            "0  우석  17  고등  독서  선경\n",
            "1  인아  14  중등  산책  한국\n",
            "2  나라  12  초등  축구  우성\n",
            "3  민정  19  고등  독서  효성\n",
            "4  서준  15  중등  농구  상성\n",
            "    나이  구분  취미  학교\n",
            "이름                \n",
            "우석  17  고등  독서  선경\n",
            "인아  14  중등  산책  한국\n",
            "나라  12  초등  축구  우성\n",
            "민정  19  고등  독서  효성\n",
            "서준  15  중등  농구  상성\n",
            "    나이  구분  취미  학교\n",
            "이름                \n",
            "나라  12  초등  축구  우성\n",
            "민정  19  고등  독서  효성\n",
            "서준  15  중등  농구  상성\n",
            "우석  17  고등  독서  선경\n",
            "인아  14  중등  산책  한국\n"
          ]
        }
      ]
    },
    {
      "cell_type": "markdown",
      "source": [
        "12.(선택) 과제에 upload되어 있는 Case.csv   \n",
        "1) 파일을 읽어 데이터 프레임에 저장하고    \n",
        "2) 'city' 열을 삭제하고     \n",
        "3) 'country' 열을 추가 하여 모든 값을 'korea'로 정하고  \n",
        "10) 'case2.csv' 파일로 저장 하는 code를   \n",
        "아래 cell에 작성하고 실행 하시오.   "
      ],
      "metadata": {
        "id": "FiJnBwWP618E"
      }
    },
    {
      "cell_type": "code",
      "source": [
        "%reset -f\n",
        "#과제 12\n",
        "import pandas as pd\n"
      ],
      "metadata": {
        "id": "pA-G-oUn8vzj"
      },
      "execution_count": null,
      "outputs": []
    },
    {
      "cell_type": "markdown",
      "source": [
        "13.(선택) 과제에 upload되어 있는 titanic.csv  \n",
        "1) 파일을 읽어 데이터 프레임에 저장하고  \n",
        "2) fare, cabin, embarked, parch 컬럼을 삭제 한 후   \n",
        "3) pclass 컬럼의 이름은 class로 변경 한 후  \n",
        "titanic_new.csv로 저장 하는 code작성  "
      ],
      "metadata": {
        "id": "TJyFrsLtt4Z3"
      }
    },
    {
      "cell_type": "code",
      "source": [
        "%reset -f\n",
        "#과제 12\n",
        "import pandas as pd\n"
      ],
      "metadata": {
        "id": "VENaVlfFuZPP"
      },
      "execution_count": null,
      "outputs": []
    }
  ]
}